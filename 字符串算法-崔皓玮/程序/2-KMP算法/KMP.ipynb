{
 "cells": [
  {
   "cell_type": "code",
   "execution_count": 2,
   "id": "d997eef1",
   "metadata": {},
   "outputs": [
    {
     "name": "stdout",
     "output_type": "stream",
     "text": [
      "GCTCTTCTTGGAGGGCTTGGTACCAGAGCAAATTTTACCAGAGAGTACAATTGCATTGATGCAGTAGAATTGGGGCATGCGCACATAACATAAGCCTCTGACAACGCCAGATAAGGCCAACCGCCCGGCGGCATGTCAGTGTATCCCTCATACAATTCGTGCGACTCCCTTTCATGTGTTTAGCACCACAATGTGATTGCAAAAGGAAGGATTTGTCTGTCGACCTGTTGGTAGGATACCCCCGCTGTTCCTAGTGGGATTACCAAGGGACGATGGGAAGCAGCGGCAGGTGCTTTCGCCCTTCTCGCTTAGCGTGTAGGACTGGGCTTGCTTGAAGACTAAGTTTGGTGACGTTCGTAGGCCACAACTTGGTCCGAGCATTCCACACCCGTAGTCTTCTTTTGAAGCACTGGTTATATACTCTAAAGCCAGGGGGTTAGAATGTGAAAAATTTCCAGCAGTGTACCTGTGAGAGCCTTTTGAGGCAGATTCCTGACAGTGTAATACGGCCGCCTATCTCCACTGCCCATAGTCGACGTCCCCTAGTCTGGGTACGGGAGAGACCTATTTGTCGCTATTTTACCTACCGTTCGCCATCTAGTCCTCTTCGCCTTGATGGCTTGACATGCCCGCCTGCTAATGGGTAGCGCAGACCGGCTATTACCGTAACTGCGGACTCTCACGCTATTATCTCTTGTGTCAGGAACACTCGCGGAACCATGTTCTCTCTTCCACATCACCTGGCTCAATCCGTGTCTAGGAGAAAATAGTGTACGAGTTTGGCTTGCATCTCATCCCATGCCCCAAGCTAGTGTTTATACGAAGACAGGATGCCCTCGCTTCCCCACTTTAGCGGACAGCGTTTGGCTTATGACGGAATCAACAACGGGACCGGACATTCGCGTCAGTCATTGGCACGGCATTCCGCATCGGCTACCGGCCTCTCTACTATTCGACAGACTCAGCCGACGAACAAAGTTCTTGTTGACTGCACCTGGTG\n",
      "TCAT\n",
      "147 171 791 908 "
     ]
    }
   ],
   "source": [
    "s1=input()\n",
    "s2=input()\n",
    "s1=\" \"+s1 #将字符串下标改为从1开始，方便后续处理\n",
    "s2=\" \"+s2\n",
    "Next=[0]*(len(s2)+1)\n",
    "\n",
    "#求Next数组\n",
    "Next[1]=0\n",
    "j=0\n",
    "for i in range(2,len(s2)):\n",
    "    while j!=0 and s2[j+1]!=s2[i]: #s2[j+1]!=s2[i]，说明s2[1..j+1]不是s2[1..i]的公共前后缀，j通过Next数组跳到更前面的位置\n",
    "        j=Next[j]\n",
    "    if s2[j+1]==s2[i]: #s2[1..j+1]是s2[1..i]的最长公共前后缀\n",
    "        j+=1\n",
    "    Next[i]=j\n",
    "\n",
    "j=0\n",
    "for i in range(1,len(s1)):\n",
    "    while j!=0 and (j+1>=len(s2) or s2[j+1]!=s1[i]): #失配，j跳回前面\n",
    "        j=Next[j]\n",
    "    if s2[j+1]==s1[i]: #s2[1..j+1]与s1[1..i]的后缀匹配上\n",
    "        j+=1\n",
    "    if j+1>=len(s2): #整个s2串都匹配上了，输出位置（输出的下标从0开始）\n",
    "        print(i-(len(s2)-1),end=' ')\n"
   ]
  },
  {
   "cell_type": "code",
   "execution_count": null,
   "id": "8d519775",
   "metadata": {},
   "outputs": [],
   "source": []
  }
 ],
 "metadata": {
  "kernelspec": {
   "display_name": "Python 3 (ipykernel)",
   "language": "python",
   "name": "python3"
  },
  "language_info": {
   "codemirror_mode": {
    "name": "ipython",
    "version": 3
   },
   "file_extension": ".py",
   "mimetype": "text/x-python",
   "name": "python",
   "nbconvert_exporter": "python",
   "pygments_lexer": "ipython3",
   "version": "3.9.13"
  }
 },
 "nbformat": 4,
 "nbformat_minor": 5
}
