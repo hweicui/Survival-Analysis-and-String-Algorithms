{
 "cells": [
  {
   "cell_type": "code",
   "execution_count": 3,
   "id": "98a1d4ac",
   "metadata": {},
   "outputs": [
    {
     "name": "stdout",
     "output_type": "stream",
     "text": [
      "GCTCTTCTTGGAGGGCTTGGTACCAGAGCAAATTTTACCAGAGAGTACAATTGCATTGATGCAGTAGAATTGGGGCATGCGCACATAACATAAGCCTCTGACAACGCCAGATAAGGCCAACCGCCCGGCGGCATGTCAGTGTATCCCTCATACAATTCGTGCGACTCCCTTTCATGTGTTTAGCACCACAATGTGATTGCAAAAGGAAGGATTTGTCTGTCGACCTGTTGGTAGGATACCCCCGCTGTTCCTAGTGGGATTACCAAGGGACGATGGGAAGCAGCGGCAGGTGCTTTCGCCCTTCTCGCTTAGCGTGTAGGACTGGGCTTGCTTGAAGACTAAGTTTGGTGACGTTCGTAGGCCACAACTTGGTCCGAGCATTCCACACCCGTAGTCTTCTTTTGAAGCACTGGTTATATACTCTAAAGCCAGGGGGTTAGAATGTGAAAAATTTCCAGCAGTGTACCTGTGAGAGCCTTTTGAGGCAGATTCCTGACAGTGTAATACGGCCGCCTATCTCCACTGCCCATAGTCGACGTCCCCTAGTCTGGGTACGGGAGAGACCTATTTGTCGCTATTTTACCTACCGTTCGCCATCTAGTCCTCTTCGCCTTGATGGCTTGACATGCCCGCCTGCTAATGGGTAGCGCAGACCGGCTATTACCGTAACTGCGGACTCTCACGCTATTATCTCTTGTGTCAGGAACACTCGCGGAACCATGTTCTCTCTTCCACATCACCTGGCTCAATCCGTGTCTAGGAGAAAATAGTGTACGAGTTTGGCTTGCATCTCATCCCATGCCCCAAGCTAGTGTTTATACGAAGACAGGATGCCCTCGCTTCCCCACTTTAGCGGACAGCGTTTGGCTTATGACGGAATCAACAACGGGACCGGACATTCGCGTCAGTCATTGGCACGGCATTCCGCATCGGCTACCGGCCTCTCTACTATTCGACAGACTCAGCCGACGAACAAAGTTCTTGTTGACTGCACCTGGTG\n",
      "TCAT"
     ]
    }
   ],
   "source": [
    "import random\n",
    "\n",
    "l1=1000 #字符串s1的长度\n",
    "for i in range(l1):\n",
    "    c=random.randint(0,3)\n",
    "    if c==0:\n",
    "        print('A',end='')\n",
    "    elif c==1:\n",
    "        print('C',end='')\n",
    "    elif c==2:\n",
    "        print('G',end='')\n",
    "    else:\n",
    "        print('T',end='')\n",
    "print()\n",
    "\n",
    "l2=4 #字符串s2的长度\n",
    "for i in range(l2):\n",
    "    c=random.randint(0,3)\n",
    "    if c==0:\n",
    "        print('A',end='')\n",
    "    elif c==1:\n",
    "        print('C',end='')\n",
    "    elif c==2:\n",
    "        print('G',end='')\n",
    "    else:\n",
    "        print('T',end='')"
   ]
  },
  {
   "cell_type": "code",
   "execution_count": null,
   "id": "bd1e854f",
   "metadata": {},
   "outputs": [],
   "source": []
  }
 ],
 "metadata": {
  "kernelspec": {
   "display_name": "Python 3 (ipykernel)",
   "language": "python",
   "name": "python3"
  },
  "language_info": {
   "codemirror_mode": {
    "name": "ipython",
    "version": 3
   },
   "file_extension": ".py",
   "mimetype": "text/x-python",
   "name": "python",
   "nbconvert_exporter": "python",
   "pygments_lexer": "ipython3",
   "version": "3.9.13"
  }
 },
 "nbformat": 4,
 "nbformat_minor": 5
}
