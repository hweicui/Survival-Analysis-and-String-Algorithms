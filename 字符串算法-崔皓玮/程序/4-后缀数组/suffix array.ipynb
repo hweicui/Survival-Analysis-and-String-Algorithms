{
 "cells": [
  {
   "cell_type": "code",
   "execution_count": 4,
   "id": "82d4ac46",
   "metadata": {},
   "outputs": [
    {
     "name": "stdout",
     "output_type": "stream",
     "text": [
      "TTGTCCTAGCCGACCCTTGTTTTGGTGTCCCATATATGAATAACTTGACTTCGCCTCCTACTCTAGTATGACATAATGGTAGAGATCAAACACACTAGGTTTACACGTCACTGTTATCTGTTTAGCACACTCAGCGGCGTGGTTTTGTAAAGCAACACATATTCTTATCTGGGAGTTAGTGAGGCATGTCGCATGGGTTCCCGACCAGGGGGCCAGTATTATGTCCTGTACTCAATGAGCCCTAGGGTCCTCCTCCCTCCTGCGGTAAGGCCGCGCCAGACGGTTACTGCTTTTGGAATC\n",
      "87 148 88 153 41 149 266 38 296 233 74 89 154 102 91 126 70 156 203 12 279 104 93 229 128 59 285 109 47 42 277 80 82 150 123 237 7 132 181 267 206 243 96 64 214 177 173 39 72 31 33 158 297 84 166 115 35 67 234 192 75 220 185 217 160 299 86 152 232 90 125 155 103 92 127 108 276 131 205 213 71 30 157 191 184 275 204 212 29 28 199 239 254 13 200 9 270 56 4 240 251 53 248 255 258 224 14 201 10 189 273 51 271 134 262 280 105 137 57 5 241 94 62 230 129 252 54 249 256 60 259 286 168 225 110 117 163 48 43 15 289 37 295 69 202 11 278 46 81 236 180 172 83 151 124 190 183 274 211 238 8 269 52 272 133 261 136 288 294 171 182 210 268 135 170 209 208 207 244 194 263 77 245 23 281 195 97 140 146 264 227 78 65 215 106 26 2 246 222 187 178 138 24 282 174 112 196 98 119 18 141 147 40 265 73 101 228 58 284 79 122 6 242 95 63 176 32 165 114 34 66 219 216 159 298 85 231 107 130 27 198 253 55 3 250 247 257 223 188 50 61 167 116 162 36 68 45 235 179 260 287 293 169 193 76 22 139 145 226 25 1 221 186 111 118 17 100 283 121 175 164 113 218 197 49 161 44 292 21 144 0 16 99 120 291 20 143 290 19 142 "
     ]
    }
   ],
   "source": [
    "s=input()\n",
    "n=len(s)\n",
    "s=\" \"+s\n",
    "m=4\n",
    "tag={'A':1,'C':2,'G':3,'T':4}\n",
    "rank=[0]*(n+1)\n",
    "sa=[0]*(n+1)\n",
    "for i in range(1,n+1):\n",
    "    rank[i]=tag[s[i]] #初始时的排名就是字符编号\n",
    "c=[0]*(n+1)\n",
    "for i in range(1,n+1):\n",
    "    c[rank[i]]+=1\n",
    "for i in range(2,m+1):\n",
    "    c[i]+=c[i-1]\n",
    "for i in range(1,n+1):\n",
    "    sa[c[rank[i]]]=i #根据rank反推出sa数组\n",
    "    c[rank[i]]-=1\n",
    "\n",
    "def Y(x):\n",
    "    if x<0 or x>=len(y):\n",
    "        return 0\n",
    "    return y[x]\n",
    "\n",
    "k=1\n",
    "while k<=n:\n",
    "    #已经求得子串长度为k时的rank数组和sa数组，倍增求出子串长度为2k时的结果\n",
    "    \n",
    "    #基数排序的思想，y数组中是按照将要排序的子串的后半段字典序排列的，这样保证在两个子串前半段相同时可以直接确定顺序\n",
    "    y=[0]\n",
    "    for i in range(n-k+1,n+1): #后半段为空的子串，放在y数组的最前面\n",
    "        y.append(i)\n",
    "    for i in range(1,n+1):\n",
    "        if sa[i]>k:\n",
    "            y.append(sa[i]-k)\n",
    "    c=[0]*(n+1)\n",
    "    for i in range(1,n+1):\n",
    "        c[rank[i]]+=1\n",
    "    for i in range(2,m+1):\n",
    "        c[i]+=c[i-1] #统计排名<=i的子串有多少个（因为存在排名重复的子串）\n",
    "    for i in range(len(y)-1,0,-1): #从后往前遍历y数组，借助刚才统计的c数组，求出子串长度为2k时的sa数组\n",
    "        sa[c[rank[y[i]]]]=y[i]\n",
    "        c[rank[y[i]]]-=1\n",
    "    y=rank.copy()\n",
    "    \n",
    "    #根据sa数组重新算出rank数组\n",
    "    rank[sa[1]]=m=1\n",
    "    for i in range(2,n+1):\n",
    "        if not (Y(sa[i])==Y(sa[i-1]) and Y(sa[i]+k)==Y(sa[i-1]+k)):\n",
    "            m+=1\n",
    "        rank[sa[i]]=m\n",
    "    k*=2\n",
    "for i in range(1,n+1):\n",
    "    print(sa[i]-1,end=' ')"
   ]
  },
  {
   "cell_type": "code",
   "execution_count": null,
   "id": "929ea313",
   "metadata": {},
   "outputs": [],
   "source": []
  }
 ],
 "metadata": {
  "kernelspec": {
   "display_name": "Python 3 (ipykernel)",
   "language": "python",
   "name": "python3"
  },
  "language_info": {
   "codemirror_mode": {
    "name": "ipython",
    "version": 3
   },
   "file_extension": ".py",
   "mimetype": "text/x-python",
   "name": "python",
   "nbconvert_exporter": "python",
   "pygments_lexer": "ipython3",
   "version": "3.9.13"
  }
 },
 "nbformat": 4,
 "nbformat_minor": 5
}
