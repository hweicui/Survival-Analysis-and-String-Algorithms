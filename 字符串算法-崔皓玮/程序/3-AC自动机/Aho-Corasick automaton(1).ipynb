{
 "cells": [
  {
   "cell_type": "code",
   "execution_count": 2,
   "id": "e3836999",
   "metadata": {},
   "outputs": [
    {
     "name": "stdout",
     "output_type": "stream",
     "text": [
      "20\n",
      "CTT\n",
      "GGATC\n",
      "CCTTT\n",
      "CAA\n",
      "CCA\n",
      "CGAAA\n",
      "CGT\n",
      "CGAAG\n",
      "CCGG\n",
      "GGGT\n",
      "CCG\n",
      "ACGCC\n",
      "AGACG\n",
      "ACG\n",
      "TAAGG\n",
      "CATAG\n",
      "ATA\n",
      "TAGC\n",
      "ATC\n",
      "TCGGA\n",
      "TGGTCACACGATAACTTTGTGCGCACTACGGTGTAGAGACAAGGGCACCAGACCCGGGTCTATTTACTCTTGGCCTACTGCGGGCAAGGTGATCCTGCGGACATGGCACCCGTCATTGAAGTGTCCTCTCGCAGGTATATCAGCAGTCCACGCCGTCTTAGGGCGGCGTTGAACAGGGAGTCCTCGTGACAAGACCGCGGTTAGGTCATGCCCCCTATCAACGGGCCTCTCATCACCTCACTCGCAGACAAACTATCAAGCAGCAGCCTCGATTCATTACAAAGGGAGAAGGGAGCACGCATGCCTCGCCCACGCAGTAAATGAAGTAGCGCCTTGCGGAAACATTCCTAGGAACGCGTCCTCATGGTAACTAAAAGTCTATCCCAAGAACAAGTTTCGCCGACACTGAGGTACAAGGGCCATCTTGAGCTTCGAAAAAGTCAATTGCCAGAAAAAGTACTCTTAGTTGACGATGCTGTCCCAGCGAAATAAAATCAATGGCCCTGTAACTATGTTCTACGAATCTGCTCAATACTTCAGTCCGTACGTAGAAATAAATACGACCTTTAGACAGTCCCGGTATACTTGCGGCAAGGTCATCTAACCAGGTCCTTGACAAGGTTGCATCTCTCCGGGAAGGCTAGGACCAGTCGATATGCTTTCGCGCGTCAGTCGGGGGCTGTCGCCAGACGCCGCGTACAGAATGCCCAGTGAAAACGGAAAGTATCAAAATTCACCTGTGCGACGCTGTTTTAAACGCTTGTGTTTGCCTTTGACCGTGCCCTCGATAGCAAACCAGGCATCACCAGATCATCAGGTTCGGTGAAGGAGCGTACAGGGATGGGTAGGAACGATTAATTATTGCGTGCGTTGCTTTAACAGACTGATGAAAACCAGTCGTTGGTCGGTTGGCAGGAAGTGACCTAGATGACAAACCTAGCGAGGACCTTCTTGCACCCGACCACCACGCCGTTATCCCGGATGTGGTCATCCCGCTACA\n",
      "在序列中出现过的片段： ACG ATA CTT CAA CCA CCG CCGG GGGT ATC CGT ACGCC TAGC CGAAA CCTTT AGACG "
     ]
    }
   ],
   "source": [
    "from queue import Queue\n",
    "\n",
    "id={'A':0,'C':1,'G':2,'T':3}\n",
    "n=int(input())\n",
    "s=[0]*n\n",
    "total_len=0\n",
    "for i in range(n):\n",
    "    s[i]=input()\n",
    "    total_len+=len(s[i])\n",
    "\n",
    "ch=[[0 for i in range(4)] for j in range(total_len+1)] \n",
    "fail=[0 for i in range(total_len+1)]\n",
    "v=[False for i in range(total_len+1)]\n",
    "p=[[] for i in range(total_len+1)]\n",
    "\n",
    "#建立trie树\n",
    "l=0\n",
    "for i in range(n):\n",
    "    k=0\n",
    "    for j in s[i]:\n",
    "        if ch[k][id[j]]==0:\n",
    "            l+=1\n",
    "            ch[k][id[j]]=l\n",
    "        k=ch[k][id[j]]\n",
    "    p[k].append(i) #在trie树上s[i]串的终止位置结点存放编号i\n",
    "\n",
    "#求出fail数组，补全每个结点的所有孩子\n",
    "que=Queue()\n",
    "for i in range(4):\n",
    "    if ch[0][i]!=0:\n",
    "        que.put(ch[0][i])\n",
    "while not que.empty():\n",
    "    Begin=que.get()\n",
    "    for i in range(4):\n",
    "        if ch[Begin][i]!=0:\n",
    "            que.put(ch[Begin][i])\n",
    "            fail[ch[Begin][i]]=ch[fail[Begin]][i]\n",
    "        else:\n",
    "            ch[Begin][i]=ch[fail[Begin]][i]\n",
    "\n",
    "t=input()\n",
    "j=0\n",
    "print(\"在序列中出现过的片段：\",end=' ')\n",
    "#进行匹配\n",
    "for i in t:\n",
    "    j=ch[j][id[i]]\n",
    "    k=j\n",
    "    while k!=0 and v[k]==False: # v数组防止有结点重复访问，避免时间复杂度的退化\n",
    "        v[k]=True\n",
    "        for x in p[k]:\n",
    "            print(s[x],end=' ')\n",
    "        k=fail[k]"
   ]
  },
  {
   "cell_type": "code",
   "execution_count": null,
   "id": "7bcecc51",
   "metadata": {},
   "outputs": [],
   "source": []
  }
 ],
 "metadata": {
  "kernelspec": {
   "display_name": "Python 3 (ipykernel)",
   "language": "python",
   "name": "python3"
  },
  "language_info": {
   "codemirror_mode": {
    "name": "ipython",
    "version": 3
   },
   "file_extension": ".py",
   "mimetype": "text/x-python",
   "name": "python",
   "nbconvert_exporter": "python",
   "pygments_lexer": "ipython3",
   "version": "3.9.13"
  }
 },
 "nbformat": 4,
 "nbformat_minor": 5
}
