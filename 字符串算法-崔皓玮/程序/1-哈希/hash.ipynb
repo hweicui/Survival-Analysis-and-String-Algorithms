{
 "cells": [
  {
   "cell_type": "code",
   "execution_count": 3,
   "id": "a2045981",
   "metadata": {},
   "outputs": [
    {
     "name": "stdout",
     "output_type": "stream",
     "text": [
      "GCTCTTCTTGGAGGGCTTGGTACCAGAGCAAATTTTACCAGAGAGTACAATTGCATTGATGCAGTAGAATTGGGGCATGCGCACATAACATAAGCCTCTGACAACGCCAGATAAGGCCAACCGCCCGGCGGCATGTCAGTGTATCCCTCATACAATTCGTGCGACTCCCTTTCATGTGTTTAGCACCACAATGTGATTGCAAAAGGAAGGATTTGTCTGTCGACCTGTTGGTAGGATACCCCCGCTGTTCCTAGTGGGATTACCAAGGGACGATGGGAAGCAGCGGCAGGTGCTTTCGCCCTTCTCGCTTAGCGTGTAGGACTGGGCTTGCTTGAAGACTAAGTTTGGTGACGTTCGTAGGCCACAACTTGGTCCGAGCATTCCACACCCGTAGTCTTCTTTTGAAGCACTGGTTATATACTCTAAAGCCAGGGGGTTAGAATGTGAAAAATTTCCAGCAGTGTACCTGTGAGAGCCTTTTGAGGCAGATTCCTGACAGTGTAATACGGCCGCCTATCTCCACTGCCCATAGTCGACGTCCCCTAGTCTGGGTACGGGAGAGACCTATTTGTCGCTATTTTACCTACCGTTCGCCATCTAGTCCTCTTCGCCTTGATGGCTTGACATGCCCGCCTGCTAATGGGTAGCGCAGACCGGCTATTACCGTAACTGCGGACTCTCACGCTATTATCTCTTGTGTCAGGAACACTCGCGGAACCATGTTCTCTCTTCCACATCACCTGGCTCAATCCGTGTCTAGGAGAAAATAGTGTACGAGTTTGGCTTGCATCTCATCCCATGCCCCAAGCTAGTGTTTATACGAAGACAGGATGCCCTCGCTTCCCCACTTTAGCGGACAGCGTTTGGCTTATGACGGAATCAACAACGGGACCGGACATTCGCGTCAGTCATTGGCACGGCATTCCGCATCGGCTACCGGCCTCTCTACTATTCGACAGACTCAGCCGACGAACAAAGTTCTTGTTGACTGCACCTGGTG\n",
      "TCAT\n",
      "147 171 791 908 "
     ]
    }
   ],
   "source": [
    "M=998244353 #除数选择质数，尽量避免哈希冲突\n",
    "s1=input()\n",
    "s2=input()\n",
    "h=H=0\n",
    "for i in range(len(s2)):\n",
    "    h=(h*131+ord(s1[i]))%M #进制也选取质数，尽量避免哈希冲突\n",
    "    H=(H*131+ord(s2[i]))%M\n",
    "pw=1\n",
    "for i in range(len(s2)-1):\n",
    "    pw=pw*131%M\n",
    "\n",
    "i=0\n",
    "while True:\n",
    "    if h==H: #哈希值相等，认为s2在该处出现\n",
    "        print(i,end=' ')\n",
    "    if i+len(s2)==len(s1):\n",
    "        break\n",
    "    h=((h-ord(s1[i])*pw%M+M)*131+ord(s1[i+len(s2)]))%M #维护s1中长度为len(s2)的子串的哈希值\n",
    "    i+=1\n"
   ]
  },
  {
   "cell_type": "code",
   "execution_count": null,
   "id": "f91b86f6",
   "metadata": {},
   "outputs": [],
   "source": []
  }
 ],
 "metadata": {
  "kernelspec": {
   "display_name": "Python 3 (ipykernel)",
   "language": "python",
   "name": "python3"
  },
  "language_info": {
   "codemirror_mode": {
    "name": "ipython",
    "version": 3
   },
   "file_extension": ".py",
   "mimetype": "text/x-python",
   "name": "python",
   "nbconvert_exporter": "python",
   "pygments_lexer": "ipython3",
   "version": "3.9.13"
  }
 },
 "nbformat": 4,
 "nbformat_minor": 5
}
